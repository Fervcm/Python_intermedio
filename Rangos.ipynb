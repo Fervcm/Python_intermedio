{
  "nbformat": 4,
  "nbformat_minor": 0,
  "metadata": {
    "colab": {
      "provenance": [],
      "mount_file_id": "1HF6e5bWMKanrHuxmCxzrCqMQfhIPPW24",
      "authorship_tag": "ABX9TyPf0TcJK6xNOPN/TfnXtwyl",
      "include_colab_link": true
    },
    "kernelspec": {
      "name": "python3",
      "display_name": "Python 3"
    },
    "language_info": {
      "name": "python"
    }
  },
  "cells": [
    {
      "cell_type": "markdown",
      "metadata": {
        "id": "view-in-github",
        "colab_type": "text"
      },
      "source": [
        "<a href=\"https://colab.research.google.com/github/Fervcm/Python_intermedio/blob/main/Rangos.ipynb\" target=\"_parent\"><img src=\"https://colab.research.google.com/assets/colab-badge.svg\" alt=\"Open In Colab\"/></a>"
      ]
    },
    {
      "cell_type": "code",
      "execution_count": null,
      "metadata": {
        "cellView": "form",
        "id": "qboOplj_Pxp5"
      },
      "outputs": [],
      "source": [
        "#@title Librerias\n",
        "import pandas as pd\n",
        "import numpy as np\n",
        "from scipy.stats import gmean\n",
        "from google.colab import drive\n"
      ]
    },
    {
      "cell_type": "code",
      "source": [
        "#@title Cargar los datos\n",
        "# Cargar los datos\n",
        "drive.mount('/content/drive')\n",
        "df = pd.read_excel('/content/drive/MyDrive/Colab Notebooks/Pruebapy.xlsx')"
      ],
      "metadata": {
        "cellView": "form",
        "id": "bzZ0DCv7P_mv"
      },
      "execution_count": null,
      "outputs": []
    },
    {
      "cell_type": "markdown",
      "source": [
        "TEXTO A EDITAR CON EL NUMERO DE EMPRESAS QUE VAYAN A EVALUAR"
      ],
      "metadata": {
        "id": "KOzre2SVYSOd"
      }
    },
    {
      "cell_type": "code",
      "source": [
        "# Lista de columnas \n",
        "colums = [\n",
        "    \"EMPRESA 1\",\n",
        "    \"EMPRESA 2\",\n",
        "    \"EMPRESA 3\",\n",
        "    \"EMPRESA 4\",\n",
        "]"
      ],
      "metadata": {
        "id": "lBwUbEoaYAM2"
      },
      "execution_count": null,
      "outputs": []
    },
    {
      "cell_type": "code",
      "source": [
        "#@title Obtener datos\n",
        "# Obtenemos los IDs únicos del DataFrame.\n",
        "ids = df['ID'].unique()\n",
        "# Crear un DataFrame vacío para los resultados\n",
        "results = pd.DataFrame()"
      ],
      "metadata": {
        "cellView": "form",
        "id": "50zoAmE9URr8"
      },
      "execution_count": null,
      "outputs": []
    },
    {
      "cell_type": "code",
      "source": [
        "#@title loop\n",
        "# Para cada ID único en nuestra lista...\n",
        "for id  in ids:\n",
        "    # Obtenemos los datos para este ID y eliminamos cualquier valor nulo o cero.\n",
        "    data = df[df['ID'] == id][colums].values.flatten()\n",
        "    data = data[~np.isnan(data) & (data != 0)]\n",
        "    \n",
        "    # Calculamos el límite inferior como la mediana menos la desviación estándar. \n",
        "    low_bound = np.median(data) - np.std(data, ddof = 1)\n",
        "    \n",
        "    # Mientras el límite inferior sea menor que 0...\n",
        "    while low_bound < 0:\n",
        "        # Calculamos la diferencia absoluta de los datos respecto a su media.\n",
        "        Abs_diff_data = np.abs(data - np.mean(data))\n",
        "        \n",
        "        # Eliminamos el valor que está más alejado de la media.\n",
        "        data = np.delete(data, np.argmax(Abs_diff_data))\n",
        "        \n",
        "        # Recalculamos el límite inferior.\n",
        "        low_bound = np.median(data) - np.std(data, ddof = 1)\n",
        "    \n",
        "    # Calculamos el límite superior como la mediana más la desviación estándar. \n",
        "    upper_bound = np.median(data) + np.std(data, ddof = 1)\n",
        "    \n",
        "    # Creamos un DataFrame temporal para guardar los resultados para este ID.\n",
        "    temp_results = pd.DataFrame({\n",
        "        'ID': [id],\n",
        "        'RANGO INFERIOR': [round(low_bound)],\n",
        "        'RANGO SUPERIOR': [round(upper_bound)],\n",
        "        'MEDIA GEOMETRICA': [round(gmean(data[(data >= low_bound) & (data <= upper_bound)]))],\n",
        "        'DESVIACION ESTANDAR.M': [round(np.std(data[(data >= low_bound) & (data <= upper_bound)]))],\n",
        "        'MEDIANA': [round(np.median(data[(data >= low_bound) & (data <= upper_bound)]))]\n",
        "\n",
        "    })\n",
        "    \n",
        "    # Agregamos los resultados para este ID al DataFrame de resultados.\n",
        "    results = pd.concat([results, temp_results])\n"
      ],
      "metadata": {
        "cellView": "form",
        "id": "JNmge3CUU5Wy"
      },
      "execution_count": null,
      "outputs": []
    },
    {
      "cell_type": "code",
      "source": [
        "#@title Exportar\n",
        "# Exportar los resultados a un archivo de Excel\n",
        "results.to_excel('/content/drive/MyDrive/Colab Notebooks/Resultadoprueba.xlsx', index=False)\n"
      ],
      "metadata": {
        "cellView": "form",
        "id": "ugA8qFmRVQBI"
      },
      "execution_count": null,
      "outputs": []
    }
  ]
}